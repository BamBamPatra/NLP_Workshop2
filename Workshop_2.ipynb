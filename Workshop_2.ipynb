{
 "cells": [
  {
   "metadata": {},
   "cell_type": "markdown",
   "source": "# Workshop 2",
   "id": "cdbc51cc92c31601"
  },
  {
   "metadata": {},
   "cell_type": "markdown",
   "source": [
    "## Install Libraries\n",
    "   - `nltk`: For natural language processing tasks, such as tokenization and stopword removal.\n",
    "   - `re`: For cleaning text using regular expressions.\n",
    "   - `pandas as pd` : For data manipulation and analysis."
   ],
   "id": "64219739cb51aabc"
  },
  {
   "metadata": {
    "ExecuteTime": {
     "end_time": "2024-12-13T16:41:07.341166Z",
     "start_time": "2024-12-13T16:41:06.732748Z"
    }
   },
   "cell_type": "code",
   "source": [
    "import pandas as pd\n",
    "import re\n",
    "import nltk\n",
    "\n",
    "nltk.download('punkt')\n",
    "nltk.download('wordnet')\n",
    "\n",
    "from textstat import flesch_kincaid_grade"
   ],
   "id": "e5fa3e8d833a7eec",
   "outputs": [
    {
     "name": "stderr",
     "output_type": "stream",
     "text": [
      "[nltk_data] Downloading package punkt to /Users/bampatra/nltk_data...\n",
      "[nltk_data]   Package punkt is already up-to-date!\n",
      "[nltk_data] Downloading package wordnet to\n",
      "[nltk_data]     /Users/bampatra/nltk_data...\n",
      "[nltk_data]   Package wordnet is already up-to-date!\n"
     ]
    }
   ],
   "execution_count": 7
  },
  {
   "metadata": {},
   "cell_type": "markdown",
   "source": "## Read file",
   "id": "1525f8e564dd9fd5"
  },
  {
   "metadata": {
    "ExecuteTime": {
     "end_time": "2024-12-13T16:41:09.426649Z",
     "start_time": "2024-12-13T16:41:07.454564Z"
    }
   },
   "cell_type": "code",
   "source": [
    "train_file = 'resource/train.csv'\n",
    "test_file = 'resource/test.csv'\n",
    "\n",
    "train_data = pd.read_csv(train_file)\n",
    "teat_data = pd.read_csv(test_file)"
   ],
   "id": "fa8083f05c481d06",
   "outputs": [],
   "execution_count": 8
  },
  {
   "metadata": {},
   "cell_type": "markdown",
   "source": "## Text cleaning , Tokenization , Lowercasing and Stop word removal",
   "id": "36880a527cd0b81c"
  },
  {
   "metadata": {
    "ExecuteTime": {
     "end_time": "2024-12-13T16:41:09.483151Z",
     "start_time": "2024-12-13T16:41:09.475685Z"
    }
   },
   "cell_type": "code",
   "source": [
    "# Define a function to process the text\n",
    "def clean_text(text):\n",
    "    if not isinstance(text, str):\n",
    "        return \"\"\n",
    "    # Remove special characters and numbers\n",
    "    text = re.sub(r'[^A-Za-z\\s]', '', text)\n",
    "    # Convert to lowercase\n",
    "    text = text.lower()\n",
    "    # Remove extra spaces\n",
    "    text = re.sub(r'\\s+', ' ', text).strip()\n",
    "    return text"
   ],
   "id": "e0d03f5cb10762f1",
   "outputs": [],
   "execution_count": 9
  },
  {
   "metadata": {},
   "cell_type": "markdown",
   "source": "## Save clean data to new file",
   "id": "3f34d97ad441f7bf"
  },
  {
   "metadata": {
    "ExecuteTime": {
     "end_time": "2024-12-13T16:41:17.323100Z",
     "start_time": "2024-12-13T16:41:09.521099Z"
    }
   },
   "cell_type": "code",
   "source": [
    "# Apply cleaning function to all columns with text data\n",
    "train_processed_data = train_data.copy()\n",
    "for column in train_processed_data.select_dtypes(include=['object']).columns:\n",
    "    train_processed_data[column] = train_processed_data[column].apply(clean_text)\n",
    "\n",
    "test_processed_data = teat_data.copy()\n",
    "for column in test_processed_data.select_dtypes(include=['object']).columns:\n",
    "    test_processed_data[column] = test_processed_data[column].apply(clean_text)\n",
    "\n",
    "# Save the processed data to a new CSV file\n",
    "train_output_file = 'cleaned_train.csv'\n",
    "test_output_file = 'cleaned_test.csv'\n",
    "\n",
    "train_processed_data.to_csv(train_output_file, index=False)\n",
    "test_processed_data.to_csv(test_output_file, index=False)\n",
    "\n",
    "train_output_file , test_output_file"
   ],
   "id": "bb233e3a779ddb91",
   "outputs": [
    {
     "data": {
      "text/plain": [
       "('cleaned_train.csv', 'cleaned_test.csv')"
      ]
     },
     "execution_count": 10,
     "metadata": {},
     "output_type": "execute_result"
    }
   ],
   "execution_count": 10
  },
  {
   "metadata": {},
   "cell_type": "markdown",
   "source": [
    "## Check readability score Flesch-Kincaid\n",
    "\n",
    "Computes the readability score (using the Flesch-Kincaid Grade Level) for the main text columns of both datasets, and prints the scores. The main functionality relies on identifying the text columns in both datasets and then applying a readability metric to those columns."
   ],
   "id": "9e03338bd9e2e187"
  },
  {
   "metadata": {},
   "cell_type": "markdown",
   "source": "Check readability train_data and cleaned_train_data",
   "id": "757fd0a363ba8c8"
  },
  {
   "metadata": {
    "ExecuteTime": {
     "end_time": "2024-12-13T16:43:25.562403Z",
     "start_time": "2024-12-13T16:43:24.570688Z"
    }
   },
   "cell_type": "code",
   "source": [
    "# Load datasets\n",
    "train_data = pd.read_csv('resource/train.csv')\n",
    "cleaned_train_data = pd.read_csv('cleaned_train.csv')\n",
    "\n",
    "# Function to compute readability score\n",
    "def compute_readability_score(data, text_column):\n",
    "    if text_column in data.columns:\n",
    "        text = ' '.join(data[text_column].dropna().astype(str))\n",
    "        return flesch_kincaid_grade(text)\n",
    "    else:\n",
    "        return None\n",
    "\n",
    "# Identify main text columns\n",
    "train_text_column = train_data.select_dtypes(include=['object']).columns[0]\n",
    "cleaned_text_column = cleaned_train_data.select_dtypes(include=['object']).columns[0]\n",
    "\n",
    "# Calculate scores\n",
    "train_readability_score = compute_readability_score(train_data, train_text_column)\n",
    "cleaned_train_readability_score = compute_readability_score(cleaned_train_data, cleaned_text_column)\n",
    "\n",
    "print(\"Train Readability Score:\", train_readability_score)\n",
    "print(\"Cleaned Train Readability Score:\", cleaned_train_readability_score)\n"
   ],
   "id": "c1d18ce55f877839",
   "outputs": [
    {
     "name": "stdout",
     "output_type": "stream",
     "text": [
      "Train Readability Score: 8.1\n",
      "Cleaned Train Readability Score: 2259533.4\n"
     ]
    }
   ],
   "execution_count": 14
  },
  {
   "metadata": {},
   "cell_type": "markdown",
   "source": "Check readability test_data and cleaned_test_data",
   "id": "ebeaaece28b70181"
  },
  {
   "metadata": {
    "ExecuteTime": {
     "end_time": "2024-12-13T16:43:07.942365Z",
     "start_time": "2024-12-13T16:43:07.020803Z"
    }
   },
   "cell_type": "code",
   "source": [
    "# Load datasets\n",
    "test_data = pd.read_csv('resource/test.csv')\n",
    "cleaned_test_data = pd.read_csv('cleaned_test.csv')\n",
    "\n",
    "# Function to compute readability score\n",
    "def compute_readability_score(data, text_column):\n",
    "    if text_column in data.columns:\n",
    "        text = ' '.join(data[text_column].dropna().astype(str))\n",
    "        return flesch_kincaid_grade(text)\n",
    "    else:\n",
    "        return None\n",
    "\n",
    "# Identify main text columns\n",
    "test_text_column = test_data.select_dtypes(include=['object']).columns[0]\n",
    "cleaned_text_column = cleaned_test_data.select_dtypes(include=['object']).columns[0]\n",
    "\n",
    "# Calculate scores\n",
    "test_readability_score = compute_readability_score(test_data, test_text_column)\n",
    "cleaned_test_readability_score = compute_readability_score(cleaned_test_data, cleaned_text_column)\n",
    "\n",
    "print(\"Test Readability Score:\", test_readability_score)\n",
    "print(\"Cleaned Test Readability Score:\", cleaned_test_readability_score)\n"
   ],
   "id": "ef5fb1cdd208037c",
   "outputs": [
    {
     "name": "stdout",
     "output_type": "stream",
     "text": [
      "Test Readability Score: 8.1\n",
      "Cleaned Test Readability Score: 2208901.3\n"
     ]
    }
   ],
   "execution_count": 13
  }
 ],
 "metadata": {
  "kernelspec": {
   "name": "python3",
   "language": "python",
   "display_name": "Python 3 (ipykernel)"
  }
 },
 "nbformat": 5,
 "nbformat_minor": 9
}
